{
 "cells": [
  {
   "cell_type": "markdown",
   "metadata": {},
   "source": [
    "# API Example\n"
   ]
  },
  {
   "cell_type": "code",
   "execution_count": 7,
   "metadata": {},
   "outputs": [],
   "source": [
    "import json\n",
    "\n",
    "import pandas as pd\n",
    "import requests"
   ]
  },
  {
   "cell_type": "code",
   "execution_count": 8,
   "metadata": {},
   "outputs": [],
   "source": [
    "data = requests.get(\"https://official-joke-api.appspot.com/jokes/ten\")"
   ]
  },
  {
   "cell_type": "code",
   "execution_count": 9,
   "metadata": {},
   "outputs": [],
   "source": [
    "results = json.loads(data.text)"
   ]
  },
  {
   "cell_type": "code",
   "execution_count": 10,
   "metadata": {},
   "outputs": [
    {
     "data": {
      "text/html": [
       "<div>\n",
       "<style scoped>\n",
       "    .dataframe tbody tr th:only-of-type {\n",
       "        vertical-align: middle;\n",
       "    }\n",
       "\n",
       "    .dataframe tbody tr th {\n",
       "        vertical-align: top;\n",
       "    }\n",
       "\n",
       "    .dataframe thead th {\n",
       "        text-align: right;\n",
       "    }\n",
       "</style>\n",
       "<table border=\"1\" class=\"dataframe\">\n",
       "  <thead>\n",
       "    <tr style=\"text-align: right;\">\n",
       "      <th></th>\n",
       "      <th>setup</th>\n",
       "      <th>punchline</th>\n",
       "    </tr>\n",
       "  </thead>\n",
       "  <tbody>\n",
       "    <tr>\n",
       "      <th>0</th>\n",
       "      <td>I started a new business making yachts in my a...</td>\n",
       "      <td>The sails are going through the roof.</td>\n",
       "    </tr>\n",
       "    <tr>\n",
       "      <th>1</th>\n",
       "      <td>Where do programmers like to hangout?</td>\n",
       "      <td>The Foo Bar.</td>\n",
       "    </tr>\n",
       "    <tr>\n",
       "      <th>2</th>\n",
       "      <td>Why did the coffee file a police report?</td>\n",
       "      <td>It got mugged.</td>\n",
       "    </tr>\n",
       "    <tr>\n",
       "      <th>3</th>\n",
       "      <td>Why don't programmers like nature?</td>\n",
       "      <td>Too many bugs.</td>\n",
       "    </tr>\n",
       "    <tr>\n",
       "      <th>4</th>\n",
       "      <td>Why is peter pan always flying?</td>\n",
       "      <td>Because he neverlands</td>\n",
       "    </tr>\n",
       "    <tr>\n",
       "      <th>5</th>\n",
       "      <td>What did the spaghetti say to the other spaghe...</td>\n",
       "      <td>Pasta la vista, baby!</td>\n",
       "    </tr>\n",
       "    <tr>\n",
       "      <th>6</th>\n",
       "      <td>What do you get when you cross a rabbit with a...</td>\n",
       "      <td>Hare spray.</td>\n",
       "    </tr>\n",
       "    <tr>\n",
       "      <th>7</th>\n",
       "      <td>Why do birds fly south for the winter?</td>\n",
       "      <td>Because it's too far to walk.</td>\n",
       "    </tr>\n",
       "    <tr>\n",
       "      <th>8</th>\n",
       "      <td>Why dot net developers don't wear glasses?</td>\n",
       "      <td>Because they see sharp.</td>\n",
       "    </tr>\n",
       "    <tr>\n",
       "      <th>9</th>\n",
       "      <td>What do you call a fly without wings?</td>\n",
       "      <td>A walk.</td>\n",
       "    </tr>\n",
       "  </tbody>\n",
       "</table>\n",
       "</div>"
      ],
      "text/plain": [
       "                                               setup  \\\n",
       "0  I started a new business making yachts in my a...   \n",
       "1              Where do programmers like to hangout?   \n",
       "2           Why did the coffee file a police report?   \n",
       "3                 Why don't programmers like nature?   \n",
       "4                    Why is peter pan always flying?   \n",
       "5  What did the spaghetti say to the other spaghe...   \n",
       "6  What do you get when you cross a rabbit with a...   \n",
       "7             Why do birds fly south for the winter?   \n",
       "8         Why dot net developers don't wear glasses?   \n",
       "9              What do you call a fly without wings?   \n",
       "\n",
       "                               punchline  \n",
       "0  The sails are going through the roof.  \n",
       "1                           The Foo Bar.  \n",
       "2                         It got mugged.  \n",
       "3                         Too many bugs.  \n",
       "4                  Because he neverlands  \n",
       "5                  Pasta la vista, baby!  \n",
       "6                            Hare spray.  \n",
       "7          Because it's too far to walk.  \n",
       "8                Because they see sharp.  \n",
       "9                                A walk.  "
      ]
     },
     "execution_count": 10,
     "metadata": {},
     "output_type": "execute_result"
    }
   ],
   "source": [
    "df = pd.DataFrame(results)\n",
    "df.drop(columns=[\"type\", \"id\"], inplace=True)\n",
    "df"
   ]
  }
 ],
 "metadata": {
  "kernelspec": {
   "display_name": ".venv",
   "language": "python",
   "name": "python3"
  },
  "language_info": {
   "codemirror_mode": {
    "name": "ipython",
    "version": 3
   },
   "file_extension": ".py",
   "mimetype": "text/x-python",
   "name": "python",
   "nbconvert_exporter": "python",
   "pygments_lexer": "ipython3",
   "version": "3.13.1"
  }
 },
 "nbformat": 4,
 "nbformat_minor": 2
}
