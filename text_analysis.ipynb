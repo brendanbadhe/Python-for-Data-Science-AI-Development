{
 "cells": [
  {
   "cell_type": "markdown",
   "metadata": {},
   "source": [
    "# Scenario: Text Analysis\n"
   ]
  },
  {
   "cell_type": "markdown",
   "metadata": {},
   "source": [
    "**Let's consider a real-life scenario where you are analyzing customer feedback for a product. You have a large data set of customer reviews in the form of strings, and you want to extract useful information from them using the three identified tasks:**\n",
    "\n",
    "**Task 1. String in lowercase:**\n",
    "You want to pre-process the customer feedback by converting all the text to lowercase. This step helps standardize the text. Lower casing the text allows you to focus on the content rather than the specific letter casing.\n",
    "\n",
    "**Task 2. Frequency of all words in a given string:**\n",
    "After converting the text to lowercase, you want to determine the frequency of each word in the customer feedback. This information will help you identify which words are used more frequently, indicating the key aspects or topics that customers are mentioning in their reviews. By analyzing the word frequencies, you can gain insights into the most common issues raised by customers.\n",
    "\n",
    "**Task 3. Frequency of a specific word:**\n",
    "In addition to analyzing the overall word frequencies, you want to specifically track the frequency of a particular word that is relevant to your analysis. For example, you might be interested in monitoring how often the word \"reliable\" appears in customer reviews to gauge customer sentiment about the product's reliability. By focusing on the frequency of a specific word, you can gain a deeper understanding of customer opinions or preferences related to that particular aspect.\n",
    "\n",
    "By performing these tasks on the customer feedback dataset, you can gain valuable insights into customer sentiment\n"
   ]
  },
  {
   "cell_type": "code",
   "execution_count": 1,
   "metadata": {},
   "outputs": [],
   "source": [
    "given_string = \"Lorem ipsum dolor! diam amet, consetetur Lorem magna. sed diam nonumy eirmod tempor. diam et labore? et diam magna. et diam amet.\""
   ]
  },
  {
   "cell_type": "code",
   "execution_count": 2,
   "metadata": {},
   "outputs": [],
   "source": [
    "class TextAnalyzer(object):\n",
    "    def __init__(self, text):\n",
    "        formattedText = (\n",
    "            text.replace(\".\", \"\").replace(\"!\", \"\").replace(\"?\", \"\").replace(\",\", \"\")\n",
    "        )\n",
    "        formattedText = formattedText.lower()\n",
    "        self.fmtText = formattedText\n",
    "\n",
    "    def freqAll(self):\n",
    "        wordList = self.fmtText.split(\" \")\n",
    "\n",
    "        freqMap = {}\n",
    "        for word in set(wordList):\n",
    "            freqMap[word] = wordList.count(word)\n",
    "\n",
    "        return freqMap\n",
    "\n",
    "    def freqOf(self, word):\n",
    "        freqDict = self.freqAll()\n",
    "\n",
    "        if word in freqDict:\n",
    "            return freqDict[word]\n",
    "        else:\n",
    "            return 0"
   ]
  },
  {
   "cell_type": "code",
   "execution_count": 3,
   "metadata": {},
   "outputs": [
    {
     "name": "stdout",
     "output_type": "stream",
     "text": [
      "Formatted Text:  lorem ipsum dolor diam amet consetetur lorem magna sed diam nonumy eirmod tempor diam et labore et diam magna et diam amet\n",
      "{'nonumy': 1, 'lorem': 2, 'tempor': 1, 'amet': 2, 'magna': 2, 'diam': 5, 'ipsum': 1, 'eirmod': 1, 'labore': 1, 'et': 3, 'dolor': 1, 'consetetur': 1, 'sed': 1}\n",
      "The word lorem appears 2 times.\n"
     ]
    }
   ],
   "source": [
    "analyzed = TextAnalyzer(given_string)\n",
    "\n",
    "print(\"Formatted Text: \", analyzed.fmtText)\n",
    "\n",
    "freqMap = analyzed.freqAll()\n",
    "print(freqMap)\n",
    "\n",
    "word = \"lorem\"\n",
    "frequency = analyzed.freqOf(word)\n",
    "print(\"The word\", word, \"appears\", frequency, \"times.\")"
   ]
  }
 ],
 "metadata": {
  "kernelspec": {
   "display_name": ".venv",
   "language": "python",
   "name": "python3"
  },
  "language_info": {
   "codemirror_mode": {
    "name": "ipython",
    "version": 3
   },
   "file_extension": ".py",
   "mimetype": "text/x-python",
   "name": "python",
   "nbconvert_exporter": "python",
   "pygments_lexer": "ipython3",
   "version": "3.13.1"
  }
 },
 "nbformat": 4,
 "nbformat_minor": 2
}
